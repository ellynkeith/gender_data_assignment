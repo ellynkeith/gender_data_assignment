{
 "cells": [
  {
   "cell_type": "code",
   "execution_count": 1,
   "metadata": {
    "collapsed": true
   },
   "outputs": [],
   "source": [
    "import gensim\n",
    "import csv\n",
    "import logging\n",
    "import nltk\n",
    "import numpy as np"
   ]
  },
  {
   "cell_type": "code",
   "execution_count": 2,
   "metadata": {
    "collapsed": true
   },
   "outputs": [],
   "source": [
    "logging.basicConfig(format='%(asctime)s : %(levelname)s : %(message)s',\\\n",
    "    level=logging.INFO)"
   ]
  },
  {
   "cell_type": "code",
   "execution_count": 3,
   "metadata": {
    "collapsed": false
   },
   "outputs": [
    {
     "name": "stderr",
     "output_type": "stream",
     "text": [
      "2017-03-05 13:37:18,056 : INFO : loading projection weights from GoogleNews-vectors-negative300.bin.gz\n",
      "2017-03-05 13:42:21,379 : INFO : loaded (3000000, 300) matrix from GoogleNews-vectors-negative300.bin.gz\n"
     ]
    }
   ],
   "source": [
    "model = gensim.models.KeyedVectors.load_word2vec_format('GoogleNews-vectors-negative300.bin.gz', binary=True)  "
   ]
  },
  {
   "cell_type": "code",
   "execution_count": 4,
   "metadata": {
    "collapsed": true
   },
   "outputs": [],
   "source": [
    "datafile = \"data/sarcasm_v2.csv\"\n",
    "with open(datafile) as f:\n",
    "    data = list(csv.reader(f))[0:]"
   ]
  },
  {
   "cell_type": "code",
   "execution_count": 5,
   "metadata": {
    "collapsed": false
   },
   "outputs": [
    {
     "data": {
      "text/plain": [
       "['therefore you accept that the republican party almost as a whole is \"grade a usda approved liberalism.\" about time you did.   ',\n",
       " \"more chattering from the peanut gallery? haven't gotten the memo, you're no longer a player? honestly....clamoring for attention is so low budget. no shame.\",\n",
       " 'yep, suppressing natural behavior is always the way to go. we should also get them to stop pooping.']"
      ]
     },
     "execution_count": 5,
     "metadata": {},
     "output_type": "execute_result"
    }
   ],
   "source": [
    "text = [line[-1].lower() for line in data if line[0]==\"GEN\"]\n",
    "text[:3]"
   ]
  },
  {
   "cell_type": "code",
   "execution_count": 60,
   "metadata": {
    "collapsed": false
   },
   "outputs": [],
   "source": [
    "test = [\"here is a list of strings.\", \"there are definitely stopwords in it.\", \"let's see if we can remove them.\"]"
   ]
  },
  {
   "cell_type": "code",
   "execution_count": 6,
   "metadata": {
    "collapsed": false
   },
   "outputs": [
    {
     "ename": "NameError",
     "evalue": "name 'test' is not defined",
     "output_type": "error",
     "traceback": [
      "\u001b[0;31m---------------------------------------------------------------------------\u001b[0m",
      "\u001b[0;31mNameError\u001b[0m                                 Traceback (most recent call last)",
      "\u001b[0;32m<ipython-input-6-a907456285f5>\u001b[0m in \u001b[0;36m<module>\u001b[0;34m()\u001b[0m\n\u001b[0;32m----> 1\u001b[0;31m \u001b[0mtest\u001b[0m \u001b[0;34m=\u001b[0m \u001b[0;34m[\u001b[0m\u001b[0;34m[\u001b[0m\u001b[0mword\u001b[0m \u001b[0;32mfor\u001b[0m \u001b[0mword\u001b[0m \u001b[0;32min\u001b[0m \u001b[0mtest\u001b[0m \u001b[0;32mif\u001b[0m \u001b[0mword\u001b[0m \u001b[0;32mnot\u001b[0m \u001b[0;32min\u001b[0m \u001b[0mnltk\u001b[0m\u001b[0;34m.\u001b[0m\u001b[0mcorpus\u001b[0m\u001b[0;34m.\u001b[0m\u001b[0mstopwords\u001b[0m\u001b[0;34m.\u001b[0m\u001b[0mwords\u001b[0m\u001b[0;34m(\u001b[0m\u001b[0;34m'english'\u001b[0m\u001b[0;34m)\u001b[0m\u001b[0;34m]\u001b[0m \u001b[0;32mfor\u001b[0m \u001b[0mline\u001b[0m \u001b[0;32min\u001b[0m \u001b[0mtest\u001b[0m\u001b[0;34m]\u001b[0m\u001b[0;34m\u001b[0m\u001b[0m\n\u001b[0m",
      "\u001b[0;31mNameError\u001b[0m: name 'test' is not defined"
     ]
    }
   ],
   "source": [
    "test = [[word for word in test if word not in nltk.corpus.stopwords.words('english')] for line in test]\n"
   ]
  },
  {
   "cell_type": "code",
   "execution_count": 15,
   "metadata": {
    "collapsed": false
   },
   "outputs": [
    {
     "name": "stdout",
     "output_type": "stream",
     "text": [
      "['therefore', 'you', 'accept', 'that', 'the', 'republican', 'party', 'almost', 'as', 'a', 'whole', 'is', '``', 'grade', 'a', 'usda', 'approved', 'liberalism', '.', \"''\", 'about', 'time', 'you', 'did', '.']\n"
     ]
    }
   ],
   "source": [
    "tokens = [nltk.word_tokenize(line) for line in text]\n",
    "print(tokens[0])"
   ]
  },
  {
   "cell_type": "code",
   "execution_count": 15,
   "metadata": {
    "collapsed": false
   },
   "outputs": [
    {
     "data": {
      "text/plain": [
       "'grandma'"
      ]
     },
     "execution_count": 15,
     "metadata": {},
     "output_type": "execute_result"
    }
   ],
   "source": [
    "model.doesnt_match('girl boy baby grandma'. split())"
   ]
  },
  {
   "cell_type": "code",
   "execution_count": 18,
   "metadata": {
    "collapsed": false
   },
   "outputs": [],
   "source": [
    "model_name = \"word2vec\"\n",
    "model.save(model_name)"
   ]
  },
  {
   "cell_type": "code",
   "execution_count": 19,
   "metadata": {
    "collapsed": false
   },
   "outputs": [
    {
     "data": {
      "text/plain": [
       "(3000000, 300)"
      ]
     },
     "execution_count": 19,
     "metadata": {},
     "output_type": "execute_result"
    }
   ],
   "source": [
    "model.syn0.shape\n"
   ]
  },
  {
   "cell_type": "code",
   "execution_count": 62,
   "metadata": {
    "collapsed": false
   },
   "outputs": [],
   "source": [
    "def makeFeatureVec(doc,model):\n",
    "    featureVec = np.zeros(300,)\n",
    "    \n",
    "    nwords = 0\n",
    "    \n",
    "    index2word_set = set(model.index2word)\n",
    "    \n",
    "    for word in doc.split():\n",
    "        print(word)\n",
    "        if word in index2word_set:\n",
    "            nwords += 1\n",
    "            featureVec = np.add(featureVec, model[word])\n",
    "    \n",
    "    featureVec = np.divide(featureVec, nwords)\n",
    "    return featureVec\n",
    "    "
   ]
  },
  {
   "cell_type": "code",
   "execution_count": 67,
   "metadata": {
    "collapsed": false
   },
   "outputs": [],
   "source": [
    "def getAvgFeatureVecs(text, model):\n",
    "    counter = 0\n",
    "    \n",
    "    textFeatureVecs = np.zeros((len(text), 300), dtype=\"float32\")\n",
    "    for doc in text:\n",
    "#         if counter%1000 == 0:\n",
    "#             print(type(counter), type(len(text)))\n",
    "#             print(\"doc %d of %d\") %(counter, len(doc))\n",
    "            \n",
    "        textFeatureVecs[counter] = makeFeatureVec(doc, model)\n",
    "        counter += 1\n",
    "    return textFeatureVecs\n",
    "    "
   ]
  },
  {
   "cell_type": "code",
   "execution_count": 68,
   "metadata": {
    "collapsed": false
   },
   "outputs": [
    {
     "name": "stdout",
     "output_type": "stream",
     "text": [
      "therefore\n",
      "you\n",
      "accept\n",
      "that\n",
      "the\n",
      "republican\n",
      "party\n",
      "almost\n",
      "as\n",
      "a\n",
      "whole\n",
      "is\n",
      "\"grade\n",
      "a\n",
      "usda\n",
      "approved\n",
      "liberalism.\"\n",
      "about\n",
      "time\n",
      "you\n",
      "did.\n"
     ]
    },
    {
     "data": {
      "text/plain": [
       "array([[ 0.00562096, -0.032341  ,  0.07038498,  0.12967467, -0.1184082 ,\n",
       "        -0.01626897,  0.03766251, -0.02767944,  0.06901169,  0.03584671,\n",
       "        -0.06720734, -0.07981873, -0.06523705,  0.00865173, -0.09159851,\n",
       "         0.11291599,  0.04623604,  0.04164124,  0.0475893 , -0.06226349,\n",
       "         0.0039562 ,  0.04541016,  0.01827621,  0.02708197,  0.06001663,\n",
       "         0.03572083, -0.06299973,  0.06289291,  0.06230259,  0.03058624,\n",
       "        -0.00534439, -0.02361679, -0.03826523,  0.05932903, -0.01037216,\n",
       "        -0.0222311 , -0.00365829,  0.02702141, -0.01179504,  0.05965805,\n",
       "         0.08377075, -0.0976181 ,  0.13394928, -0.02839279, -0.00915527,\n",
       "        -0.05337811, -0.00292492,  0.01215386, -0.03006744, -0.01864243,\n",
       "         0.05606079,  0.01688766, -0.01224995, -0.02986145, -0.00167847,\n",
       "         0.0299015 , -0.03596306, -0.0301609 ,  0.06640148, -0.03706074,\n",
       "        -0.03068161,  0.07945681, -0.04376984, -0.07824707,  0.02370071,\n",
       "        -0.04793549, -0.04295349,  0.10340214, -0.05507827,  0.0329361 ,\n",
       "         0.09883499,  0.01132202,  0.0741272 ,  0.00731468, -0.10379601,\n",
       "        -0.09416389,  0.11193275,  0.06856537,  0.04443741,  0.13394737,\n",
       "         0.0058918 , -0.13274765,  0.05918121,  0.02249527, -0.05042458,\n",
       "        -0.09717131, -0.03542328,  0.11788559,  0.0129528 , -0.00640106,\n",
       "         0.03879738,  0.03174877, -0.0667572 , -0.08612061, -0.04957962,\n",
       "        -0.0496316 , -0.00162321,  0.00592232,  0.05335999,  0.00594091,\n",
       "        -0.05219567, -0.03180552, -0.00908899,  0.04088974, -0.07659149,\n",
       "        -0.03752136, -0.07598877, -0.04484177,  0.02112675, -0.09474564,\n",
       "        -0.04404259, -0.05622482, -0.05034637,  0.05473185,  0.08875275,\n",
       "         0.04103088,  0.03507423, -0.05238867,  0.11229324,  0.03072548,\n",
       "        -0.02998734, -0.02339363, -0.0517807 ,  0.04141235, -0.03033447,\n",
       "         0.03182983, -0.00320053, -0.03448367,  0.02194595,  0.02571106,\n",
       "        -0.04776382, -0.05228233, -0.09124756, -0.00900269, -0.0556221 ,\n",
       "        -0.09579468, -0.03694153,  0.00151539,  0.05531693,  0.04357004,\n",
       "         0.03978348, -0.05857468, -0.0204277 ,  0.00419998,  0.0420742 ,\n",
       "        -0.02421188, -0.05596924, -0.09335327, -0.02656937,  0.05653763,\n",
       "         0.0770874 ,  0.02049255, -0.08155489, -0.01084137,  0.01100636,\n",
       "        -0.02336884, -0.01429749, -0.08953857, -0.04866028, -0.01560974,\n",
       "        -0.02269173,  0.08078957,  0.01238298,  0.05760574, -0.00570679,\n",
       "        -0.06843948,  0.04445934, -0.0023644 ,  0.04129982,  0.04916763,\n",
       "        -0.11611557, -0.00361633,  0.00192261, -0.09252119,  0.01748562,\n",
       "        -0.03531241,  0.03462982, -0.06950188, -0.0009613 , -0.02992249,\n",
       "        -0.04910469, -0.03315759, -0.03380871, -0.01978302, -0.00361824,\n",
       "        -0.00865936, -0.05925179,  0.02824402,  0.0732584 ,  0.07375717,\n",
       "         0.04244232,  0.05379105, -0.06668663, -0.00146484, -0.01787567,\n",
       "         0.03310585, -0.0318985 ,  0.06698036, -0.05283558, -0.11573029,\n",
       "         0.01202011,  0.05130768, -0.02657896,  0.02464437, -0.01358032,\n",
       "         0.08256531, -0.01689911, -0.00411129,  0.03394318, -0.03468323,\n",
       "         0.03977966,  0.06205368, -0.00836945,  0.04334354, -0.13640118,\n",
       "         0.01602459,  0.07011795, -0.01467896, -0.07564545,  0.03448558,\n",
       "        -0.00814724, -0.02391052,  0.01401114, -0.0212822 ,  0.12227631,\n",
       "        -0.04166412,  0.10669708,  0.05671501,  0.04412842,  0.02148819,\n",
       "         0.01414871, -0.03334713,  0.00061798,  0.03677464,  0.00750399,\n",
       "        -0.03195381,  0.01134109, -0.0140419 ,  0.04811096,  0.00993538,\n",
       "         0.03376389, -0.02961731,  0.0443325 , -0.04725647, -0.01686478,\n",
       "        -0.04300475, -0.00634098,  0.10276794, -0.04001427, -0.0124588 ,\n",
       "         0.01281738,  0.00352478,  0.03787804,  0.0663271 ,  0.03532028,\n",
       "        -0.00728893,  0.04661942,  0.03779602, -0.00848722, -0.07307625,\n",
       "        -0.04953384, -0.07752991, -0.04954529,  0.02336502,  0.0081377 ,\n",
       "         0.10946083,  0.00993538,  0.00524902, -0.11307144, -0.01905274,\n",
       "         0.02788925,  0.1004982 ,  0.13600159,  0.02006531,  0.00332451,\n",
       "        -0.09903145, -0.02119064, -0.13985825, -0.04498672, -0.01207733,\n",
       "        -0.00224304,  0.00155354, -0.00651884,  0.07032967,  0.00815201,\n",
       "        -0.0127635 , -0.07060242, -0.04667664,  0.0272522 ,  0.05904579,\n",
       "        -0.11600113,  0.02885437, -0.08615112,  0.02128887, -0.02024078,\n",
       "         0.02064133, -0.02585173, -0.03112316,  0.01433945,  0.00377464]], dtype=float32)"
      ]
     },
     "execution_count": 68,
     "metadata": {},
     "output_type": "execute_result"
    }
   ],
   "source": [
    "test = getAvgFeatureVecs(text[:1], model)\n",
    "test"
   ]
  },
  {
   "cell_type": "code",
   "execution_count": 69,
   "metadata": {
    "collapsed": false
   },
   "outputs": [],
   "source": [
    "featureVec = np.zeros((1, 300),dtype=\"float32\")\n",
    "\n",
    "for doc in text[:2]:\n",
    "    nwords = 0\n",
    "    for word in doc:\n",
    "        if word in set(model.index2word):\n",
    "            nwords += 1\n",
    "            featureVec = np.add(featureVec,model[word])\n",
    "    featureVec = np.divide(featureVec, nwords)\n",
    "            \n",
    "            "
   ]
  },
  {
   "cell_type": "code",
   "execution_count": 32,
   "metadata": {
    "collapsed": false
   },
   "outputs": [
    {
     "data": {
      "text/plain": [
       "array([[-0.18475981,  0.13650087, -0.01074219, ..., -0.03607887,\n",
       "        -0.09047113,  0.16226836],\n",
       "       [-0.18475981,  0.13650087, -0.01074219, ..., -0.03607887,\n",
       "        -0.09047113,  0.16226836],\n",
       "       [-0.18475981,  0.13650087, -0.01074219, ..., -0.03607887,\n",
       "        -0.09047113,  0.16226836],\n",
       "       ..., \n",
       "       [-0.18475981,  0.13650087, -0.01074219, ..., -0.03607887,\n",
       "        -0.09047113,  0.16226836],\n",
       "       [-0.18475981,  0.13650087, -0.01074219, ..., -0.03607887,\n",
       "        -0.09047113,  0.16226836],\n",
       "       [-0.18475981,  0.13650087, -0.01074219, ..., -0.03607887,\n",
       "        -0.09047113,  0.16226836]], dtype=float32)"
      ]
     },
     "execution_count": 32,
     "metadata": {},
     "output_type": "execute_result"
    }
   ],
   "source": [
    "featureVec"
   ]
  },
  {
   "cell_type": "code",
   "execution_count": 34,
   "metadata": {
    "collapsed": false
   },
   "outputs": [
    {
     "ename": "KeyboardInterrupt",
     "evalue": "",
     "output_type": "error",
     "traceback": [
      "\u001b[0;31m---------------------------------------------------------------------------\u001b[0m",
      "\u001b[0;31mKeyboardInterrupt\u001b[0m                         Traceback (most recent call last)",
      "\u001b[0;32m<ipython-input-34-efe53b7cd813>\u001b[0m in \u001b[0;36m<module>\u001b[0;34m()\u001b[0m\n\u001b[1;32m      1\u001b[0m \u001b[0mfeatureVec\u001b[0m \u001b[0;34m=\u001b[0m \u001b[0mnp\u001b[0m\u001b[0;34m.\u001b[0m\u001b[0mzeros\u001b[0m\u001b[0;34m(\u001b[0m\u001b[0;34m(\u001b[0m\u001b[0;36m1\u001b[0m\u001b[0;34m,\u001b[0m \u001b[0;36m300\u001b[0m\u001b[0;34m)\u001b[0m\u001b[0;34m,\u001b[0m\u001b[0mdtype\u001b[0m\u001b[0;34m=\u001b[0m\u001b[0;34m\"float32\"\u001b[0m\u001b[0;34m)\u001b[0m\u001b[0;34m\u001b[0m\u001b[0m\n\u001b[1;32m      2\u001b[0m \u001b[0;34m\u001b[0m\u001b[0m\n\u001b[0;32m----> 3\u001b[0;31m \u001b[0mfeatureVec\u001b[0m \u001b[0;34m=\u001b[0m \u001b[0;34m[\u001b[0m\u001b[0;34m[\u001b[0m\u001b[0mnp\u001b[0m\u001b[0;34m.\u001b[0m\u001b[0madd\u001b[0m\u001b[0;34m(\u001b[0m\u001b[0mfeatureVec\u001b[0m\u001b[0;34m,\u001b[0m \u001b[0mmodel\u001b[0m\u001b[0;34m[\u001b[0m\u001b[0mword\u001b[0m\u001b[0;34m]\u001b[0m\u001b[0;34m)\u001b[0m \u001b[0;32mfor\u001b[0m \u001b[0mdoc\u001b[0m \u001b[0;32min\u001b[0m \u001b[0mtext\u001b[0m \u001b[0;32mif\u001b[0m \u001b[0mword\u001b[0m \u001b[0;32min\u001b[0m \u001b[0mset\u001b[0m\u001b[0;34m(\u001b[0m\u001b[0mmodel\u001b[0m\u001b[0;34m.\u001b[0m\u001b[0mindex2word\u001b[0m\u001b[0;34m)\u001b[0m\u001b[0;34m]\u001b[0m \u001b[0;32mfor\u001b[0m \u001b[0mdoc\u001b[0m \u001b[0;32min\u001b[0m \u001b[0mtext\u001b[0m\u001b[0;34m[\u001b[0m\u001b[0;34m:\u001b[0m\u001b[0;36m3\u001b[0m\u001b[0;34m]\u001b[0m\u001b[0;34m]\u001b[0m\u001b[0;34m\u001b[0m\u001b[0m\n\u001b[0m\u001b[1;32m      4\u001b[0m \u001b[0;34m\u001b[0m\u001b[0m\n\u001b[1;32m      5\u001b[0m \u001b[0mfeatureVec\u001b[0m \u001b[0;34m=\u001b[0m \u001b[0;34m[\u001b[0m\u001b[0mnp\u001b[0m\u001b[0;34m.\u001b[0m\u001b[0mdivide\u001b[0m\u001b[0;34m(\u001b[0m\u001b[0mfeatureVec\u001b[0m\u001b[0;34m,\u001b[0m \u001b[0mlen\u001b[0m\u001b[0;34m(\u001b[0m\u001b[0mdoc\u001b[0m\u001b[0;34m)\u001b[0m\u001b[0;34m)\u001b[0m \u001b[0;32mfor\u001b[0m \u001b[0mdoc\u001b[0m \u001b[0;32min\u001b[0m \u001b[0mtext\u001b[0m\u001b[0;34m]\u001b[0m\u001b[0;34m\u001b[0m\u001b[0m\n",
      "\u001b[0;32m<ipython-input-34-efe53b7cd813>\u001b[0m in \u001b[0;36m<listcomp>\u001b[0;34m(.0)\u001b[0m\n\u001b[1;32m      1\u001b[0m \u001b[0mfeatureVec\u001b[0m \u001b[0;34m=\u001b[0m \u001b[0mnp\u001b[0m\u001b[0;34m.\u001b[0m\u001b[0mzeros\u001b[0m\u001b[0;34m(\u001b[0m\u001b[0;34m(\u001b[0m\u001b[0;36m1\u001b[0m\u001b[0;34m,\u001b[0m \u001b[0;36m300\u001b[0m\u001b[0;34m)\u001b[0m\u001b[0;34m,\u001b[0m\u001b[0mdtype\u001b[0m\u001b[0;34m=\u001b[0m\u001b[0;34m\"float32\"\u001b[0m\u001b[0;34m)\u001b[0m\u001b[0;34m\u001b[0m\u001b[0m\n\u001b[1;32m      2\u001b[0m \u001b[0;34m\u001b[0m\u001b[0m\n\u001b[0;32m----> 3\u001b[0;31m \u001b[0mfeatureVec\u001b[0m \u001b[0;34m=\u001b[0m \u001b[0;34m[\u001b[0m\u001b[0;34m[\u001b[0m\u001b[0mnp\u001b[0m\u001b[0;34m.\u001b[0m\u001b[0madd\u001b[0m\u001b[0;34m(\u001b[0m\u001b[0mfeatureVec\u001b[0m\u001b[0;34m,\u001b[0m \u001b[0mmodel\u001b[0m\u001b[0;34m[\u001b[0m\u001b[0mword\u001b[0m\u001b[0;34m]\u001b[0m\u001b[0;34m)\u001b[0m \u001b[0;32mfor\u001b[0m \u001b[0mdoc\u001b[0m \u001b[0;32min\u001b[0m \u001b[0mtext\u001b[0m \u001b[0;32mif\u001b[0m \u001b[0mword\u001b[0m \u001b[0;32min\u001b[0m \u001b[0mset\u001b[0m\u001b[0;34m(\u001b[0m\u001b[0mmodel\u001b[0m\u001b[0;34m.\u001b[0m\u001b[0mindex2word\u001b[0m\u001b[0;34m)\u001b[0m\u001b[0;34m]\u001b[0m \u001b[0;32mfor\u001b[0m \u001b[0mdoc\u001b[0m \u001b[0;32min\u001b[0m \u001b[0mtext\u001b[0m\u001b[0;34m[\u001b[0m\u001b[0;34m:\u001b[0m\u001b[0;36m3\u001b[0m\u001b[0;34m]\u001b[0m\u001b[0;34m]\u001b[0m\u001b[0;34m\u001b[0m\u001b[0m\n\u001b[0m\u001b[1;32m      4\u001b[0m \u001b[0;34m\u001b[0m\u001b[0m\n\u001b[1;32m      5\u001b[0m \u001b[0mfeatureVec\u001b[0m \u001b[0;34m=\u001b[0m \u001b[0;34m[\u001b[0m\u001b[0mnp\u001b[0m\u001b[0;34m.\u001b[0m\u001b[0mdivide\u001b[0m\u001b[0;34m(\u001b[0m\u001b[0mfeatureVec\u001b[0m\u001b[0;34m,\u001b[0m \u001b[0mlen\u001b[0m\u001b[0;34m(\u001b[0m\u001b[0mdoc\u001b[0m\u001b[0;34m)\u001b[0m\u001b[0;34m)\u001b[0m \u001b[0;32mfor\u001b[0m \u001b[0mdoc\u001b[0m \u001b[0;32min\u001b[0m \u001b[0mtext\u001b[0m\u001b[0;34m]\u001b[0m\u001b[0;34m\u001b[0m\u001b[0m\n",
      "\u001b[0;32m<ipython-input-34-efe53b7cd813>\u001b[0m in \u001b[0;36m<listcomp>\u001b[0;34m(.0)\u001b[0m\n\u001b[1;32m      1\u001b[0m \u001b[0mfeatureVec\u001b[0m \u001b[0;34m=\u001b[0m \u001b[0mnp\u001b[0m\u001b[0;34m.\u001b[0m\u001b[0mzeros\u001b[0m\u001b[0;34m(\u001b[0m\u001b[0;34m(\u001b[0m\u001b[0;36m1\u001b[0m\u001b[0;34m,\u001b[0m \u001b[0;36m300\u001b[0m\u001b[0;34m)\u001b[0m\u001b[0;34m,\u001b[0m\u001b[0mdtype\u001b[0m\u001b[0;34m=\u001b[0m\u001b[0;34m\"float32\"\u001b[0m\u001b[0;34m)\u001b[0m\u001b[0;34m\u001b[0m\u001b[0m\n\u001b[1;32m      2\u001b[0m \u001b[0;34m\u001b[0m\u001b[0m\n\u001b[0;32m----> 3\u001b[0;31m \u001b[0mfeatureVec\u001b[0m \u001b[0;34m=\u001b[0m \u001b[0;34m[\u001b[0m\u001b[0;34m[\u001b[0m\u001b[0mnp\u001b[0m\u001b[0;34m.\u001b[0m\u001b[0madd\u001b[0m\u001b[0;34m(\u001b[0m\u001b[0mfeatureVec\u001b[0m\u001b[0;34m,\u001b[0m \u001b[0mmodel\u001b[0m\u001b[0;34m[\u001b[0m\u001b[0mword\u001b[0m\u001b[0;34m]\u001b[0m\u001b[0;34m)\u001b[0m \u001b[0;32mfor\u001b[0m \u001b[0mdoc\u001b[0m \u001b[0;32min\u001b[0m \u001b[0mtext\u001b[0m \u001b[0;32mif\u001b[0m \u001b[0mword\u001b[0m \u001b[0;32min\u001b[0m \u001b[0mset\u001b[0m\u001b[0;34m(\u001b[0m\u001b[0mmodel\u001b[0m\u001b[0;34m.\u001b[0m\u001b[0mindex2word\u001b[0m\u001b[0;34m)\u001b[0m\u001b[0;34m]\u001b[0m \u001b[0;32mfor\u001b[0m \u001b[0mdoc\u001b[0m \u001b[0;32min\u001b[0m \u001b[0mtext\u001b[0m\u001b[0;34m[\u001b[0m\u001b[0;34m:\u001b[0m\u001b[0;36m3\u001b[0m\u001b[0;34m]\u001b[0m\u001b[0;34m]\u001b[0m\u001b[0;34m\u001b[0m\u001b[0m\n\u001b[0m\u001b[1;32m      4\u001b[0m \u001b[0;34m\u001b[0m\u001b[0m\n\u001b[1;32m      5\u001b[0m \u001b[0mfeatureVec\u001b[0m \u001b[0;34m=\u001b[0m \u001b[0;34m[\u001b[0m\u001b[0mnp\u001b[0m\u001b[0;34m.\u001b[0m\u001b[0mdivide\u001b[0m\u001b[0;34m(\u001b[0m\u001b[0mfeatureVec\u001b[0m\u001b[0;34m,\u001b[0m \u001b[0mlen\u001b[0m\u001b[0;34m(\u001b[0m\u001b[0mdoc\u001b[0m\u001b[0;34m)\u001b[0m\u001b[0;34m)\u001b[0m \u001b[0;32mfor\u001b[0m \u001b[0mdoc\u001b[0m \u001b[0;32min\u001b[0m \u001b[0mtext\u001b[0m\u001b[0;34m]\u001b[0m\u001b[0;34m\u001b[0m\u001b[0m\n",
      "\u001b[0;31mKeyboardInterrupt\u001b[0m: "
     ]
    }
   ],
   "source": [
    "featureVec = np.zeros((1, 300),dtype=\"float32\")\n",
    "\n",
    "featureVec = [[np.add(featureVec, model[word]) for doc in text if word in set(model.index2word)] for doc in text[:3]]\n",
    "\n",
    "featureVec = [np.divide(featureVec, len(doc)) for doc in text]\n",
    "print(\"DONE\")"
   ]
  },
  {
   "cell_type": "code",
   "execution_count": null,
   "metadata": {
    "collapsed": true
   },
   "outputs": [],
   "source": []
  }
 ],
 "metadata": {
  "kernelspec": {
   "display_name": "Python 3",
   "language": "python",
   "name": "python3"
  },
  "language_info": {
   "codemirror_mode": {
    "name": "ipython",
    "version": 3
   },
   "file_extension": ".py",
   "mimetype": "text/x-python",
   "name": "python",
   "nbconvert_exporter": "python",
   "pygments_lexer": "ipython3",
   "version": "3.6.0"
  }
 },
 "nbformat": 4,
 "nbformat_minor": 2
}
